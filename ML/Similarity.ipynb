{
 "cells": [
  {
   "cell_type": "code",
   "execution_count": 48,
   "metadata": {},
   "outputs": [],
   "source": [
    "import pandas as pd\n",
    "import numpy as np\n",
    "import os \n",
    "import matplotlib.pyplot as plt\n",
    "import seaborn as sns"
   ]
  },
  {
   "cell_type": "code",
   "execution_count": 49,
   "metadata": {},
   "outputs": [],
   "source": [
    "from sklearn.neighbors import KNeighborsClassifier\n",
    "from sklearn.model_selection import train_test_split\n",
    "from sklearn.metrics import accuracy_score\n"
   ]
  },
  {
   "cell_type": "code",
   "execution_count": 65,
   "metadata": {},
   "outputs": [],
   "source": [
    "df = pd.read_csv('userdata.csv')"
   ]
  },
  {
   "cell_type": "code",
   "execution_count": 51,
   "metadata": {},
   "outputs": [
    {
     "name": "stdout",
     "output_type": "stream",
     "text": [
      "['Dining_Hall', 'Time', 'Station_Name']\n"
     ]
    }
   ],
   "source": [
    "to_encode = list(df.select_dtypes(include=['object']).columns)[1:]\n",
    "print(to_encode)"
   ]
  },
  {
   "cell_type": "code",
   "execution_count": 52,
   "metadata": {},
   "outputs": [],
   "source": [
    "df_Dining_Hall = pd.get_dummies(df['Dining_Hall'], prefix='Dining_Hall_')\n",
    "df = df.join(df_Dining_Hall)\n",
    "df.drop(columns = 'Dining_Hall', inplace=True)\n",
    "\n",
    "df_Time = pd.get_dummies(df['Time'], prefix='Time_')\n",
    "df = df.join(df_Time)\n",
    "df.drop(columns = 'Time', inplace=True)\n",
    "\n",
    "df_Station_Name = pd.get_dummies(df['Station_Name'], prefix='Station_Name_')\n",
    "df = df.join(df_Station_Name)\n",
    "df.drop(columns = 'Station_Name', inplace=True)\n"
   ]
  },
  {
   "cell_type": "code",
   "execution_count": 53,
   "metadata": {},
   "outputs": [],
   "source": [
    "Nutrient = df['Calories'] + df['saturated_fat'] + df['protein'] + df['carbohydrates']\n",
    "\n",
    "df = df.merge(Nutrient.rename('Nutrient'), left_index=True, right_index=True)\n",
    "df.drop(columns = 'Calories', inplace=True)\n",
    "df.drop(columns = 'saturated_fat', inplace=True)\n",
    "df.drop(columns = 'protein', inplace=True)\n",
    "df.drop(columns = 'carbohydrates', inplace=True)\n",
    "#df.drop(columns = 'Name', inplace=True)\n"
   ]
  },
  {
   "cell_type": "code",
   "execution_count": 54,
   "metadata": {},
   "outputs": [
    {
     "data": {
      "text/plain": [
       "Name                               object\n",
       "is_vegetarian                       int64\n",
       "is_vegan                            int64\n",
       "is_sargent_choice                   int64\n",
       "is_glutenfree                       int64\n",
       "is_halal                            int64\n",
       "is_sustainable                      int64\n",
       "Dining_Hall__Marciano               uint8\n",
       "Dining_Hall__Warren                 uint8\n",
       "Dining_Hall__West                   uint8\n",
       "Time__Breakfast                     uint8\n",
       "Time__Dinner                        uint8\n",
       "Time__Lunch                         uint8\n",
       "Station_Name__Asian Fusion          uint8\n",
       "Station_Name__Bakery                uint8\n",
       "Station_Name__Brick Oven            uint8\n",
       "Station_Name__Cop2                  uint8\n",
       "Station_Name__Deli                  uint8\n",
       "Station_Name__Exhibition Saute      uint8\n",
       "Station_Name__Gluten Free           uint8\n",
       "Station_Name__Grill                 uint8\n",
       "Station_Name__Home Zone             uint8\n",
       "Station_Name__International         uint8\n",
       "Station_Name__Mediterranean         uint8\n",
       "Station_Name__Range                 uint8\n",
       "Station_Name__Saute                 uint8\n",
       "Station_Name__Soup Kitchen          uint8\n",
       "Station_Name__Southwest Station     uint8\n",
       "Station_Name__Vegan                 uint8\n",
       "Nutrient                            int64\n",
       "dtype: object"
      ]
     },
     "execution_count": 54,
     "metadata": {},
     "output_type": "execute_result"
    }
   ],
   "source": [
    "df.dtypes"
   ]
  },
  {
   "cell_type": "code",
   "execution_count": 55,
   "metadata": {},
   "outputs": [],
   "source": [
    "df_train = df.iloc[:int(0.2 * len(df)),1:]\n",
    "df_test = df.iloc[int(0.2 * len(df)):,1:]"
   ]
  },
  {
   "cell_type": "code",
   "execution_count": 56,
   "metadata": {},
   "outputs": [],
   "source": [
    "from sklearn.metrics.pairwise import cosine_similarity\n"
   ]
  },
  {
   "cell_type": "code",
   "execution_count": 57,
   "metadata": {},
   "outputs": [
    {
     "data": {
      "text/plain": [
       "[75.97841237249217,\n",
       " 75.98745424074218,\n",
       " 75.99044467197929,\n",
       " 75.98773189310694,\n",
       " 2.9384375625140735,\n",
       " 75.98222831558985,\n",
       " 75.9816247913705,\n",
       " 75.97879191394259,\n",
       " 75.9806902431433,\n",
       " 75.9795833873188,\n",
       " 75.95427412419434,\n",
       " 75.97568877339482,\n",
       " 75.98888949689267,\n",
       " 2.5130013462363494,\n",
       " 75.97881000384022,\n",
       " 75.97784145764368,\n",
       " 75.9802224589712,\n",
       " 75.97733269720496,\n",
       " 75.9725298727644]"
      ]
     },
     "execution_count": 57,
     "metadata": {},
     "output_type": "execute_result"
    }
   ],
   "source": [
    "similarity = cosine_similarity(df_train, df_test)\n",
    "\n",
    "similarities = []\n",
    "for i in range(len(similarity)):\n",
    "    similarities.append(sum(similarity[i]))\n",
    "similarities"
   ]
  },
  {
   "cell_type": "code",
   "execution_count": 58,
   "metadata": {},
   "outputs": [
    {
     "data": {
      "text/plain": [
       "{'Chocolate Chip Coffee Cake': 75.97841237249217,\n",
       " 'Hash Brown Potatoes': 75.98745424074218,\n",
       " 'Chicken Noodle Soup': 75.9725298727644,\n",
       " 'Brown Rice': 75.98773189310694,\n",
       " 'Create Your Own Sandwich Station': 2.5130013462363494,\n",
       " 'Cosmic Brownie': 75.98222831558985,\n",
       " 'BBQ Chicken and Carmelized Onion Pizza': 75.9816247913705,\n",
       " 'Local Homestyle French Fries': 75.97879191394259,\n",
       " 'Grilled Chicken Breast': 75.9806902431433,\n",
       " 'Sesame Honey Salmon': 75.9795833873188,\n",
       " 'Hard Boiled Egg': 75.95427412419434,\n",
       " 'Chocolate Chip Blondie': 75.97568877339482,\n",
       " 'Chicken & Asiago Sub': 75.98888949689267,\n",
       " 'Chicken & Veggie Stir Fry': 75.97881000384022,\n",
       " 'Mandarin Fried Rice with Tempeh': 75.97784145764368,\n",
       " 'Crunchy Onion Rings': 75.9802224589712,\n",
       " 'BBQ Onion & Grilled Portobello Sandwich': 75.97733269720496}"
      ]
     },
     "execution_count": 58,
     "metadata": {},
     "output_type": "execute_result"
    }
   ],
   "source": [
    "Name = df.Name\n",
    "Rank={}\n",
    "for i in range(len(similarities)):\n",
    "    Rank[Name[i]]=similarities[i]\n",
    "Rank"
   ]
  },
  {
   "cell_type": "code",
   "execution_count": 59,
   "metadata": {
    "scrolled": true
   },
   "outputs": [
    {
     "data": {
      "text/plain": [
       "{'Create Your Own Sandwich Station': 2.5130013462363494,\n",
       " 'Hard Boiled Egg': 75.95427412419434,\n",
       " 'Chicken Noodle Soup': 75.9725298727644,\n",
       " 'Chocolate Chip Blondie': 75.97568877339482,\n",
       " 'BBQ Onion & Grilled Portobello Sandwich': 75.97733269720496,\n",
       " 'Mandarin Fried Rice with Tempeh': 75.97784145764368,\n",
       " 'Chocolate Chip Coffee Cake': 75.97841237249217,\n",
       " 'Local Homestyle French Fries': 75.97879191394259,\n",
       " 'Chicken & Veggie Stir Fry': 75.97881000384022,\n",
       " 'Sesame Honey Salmon': 75.9795833873188,\n",
       " 'Crunchy Onion Rings': 75.9802224589712,\n",
       " 'Grilled Chicken Breast': 75.9806902431433,\n",
       " 'BBQ Chicken and Carmelized Onion Pizza': 75.9816247913705,\n",
       " 'Cosmic Brownie': 75.98222831558985,\n",
       " 'Hash Brown Potatoes': 75.98745424074218,\n",
       " 'Brown Rice': 75.98773189310694,\n",
       " 'Chicken & Asiago Sub': 75.98888949689267}"
      ]
     },
     "execution_count": 59,
     "metadata": {},
     "output_type": "execute_result"
    }
   ],
   "source": [
    "Rank_sorted = {k: v for k, v in sorted(Rank.items(), key=lambda item: item[1])}\n",
    "Rank_sorted"
   ]
  },
  {
   "cell_type": "code",
   "execution_count": 84,
   "metadata": {
    "scrolled": true
   },
   "outputs": [
    {
     "data": {
      "text/html": [
       "<div>\n",
       "<style scoped>\n",
       "    .dataframe tbody tr th:only-of-type {\n",
       "        vertical-align: middle;\n",
       "    }\n",
       "\n",
       "    .dataframe tbody tr th {\n",
       "        vertical-align: top;\n",
       "    }\n",
       "\n",
       "    .dataframe thead th {\n",
       "        text-align: right;\n",
       "    }\n",
       "</style>\n",
       "<table border=\"1\" class=\"dataframe\">\n",
       "  <thead>\n",
       "    <tr style=\"text-align: right;\">\n",
       "      <th></th>\n",
       "      <th>Name</th>\n",
       "      <th>Dining_Hall</th>\n",
       "      <th>Time</th>\n",
       "      <th>Station_Name</th>\n",
       "      <th>is_vegetarian</th>\n",
       "      <th>is_vegan</th>\n",
       "      <th>is_sargent_choice</th>\n",
       "      <th>is_glutenfree</th>\n",
       "      <th>is_halal</th>\n",
       "      <th>is_sustainable</th>\n",
       "      <th>Calories</th>\n",
       "      <th>saturated_fat</th>\n",
       "      <th>protein</th>\n",
       "      <th>carbohydrates</th>\n",
       "    </tr>\n",
       "  </thead>\n",
       "  <tbody>\n",
       "    <tr>\n",
       "      <th>14</th>\n",
       "      <td>Chicken &amp; Veggie Stir Fry</td>\n",
       "      <td>Warren</td>\n",
       "      <td>Lunch</td>\n",
       "      <td>Gluten Free</td>\n",
       "      <td>0</td>\n",
       "      <td>0</td>\n",
       "      <td>0</td>\n",
       "      <td>1</td>\n",
       "      <td>1</td>\n",
       "      <td>1</td>\n",
       "      <td>85</td>\n",
       "      <td>1</td>\n",
       "      <td>6</td>\n",
       "      <td>2</td>\n",
       "    </tr>\n",
       "  </tbody>\n",
       "</table>\n",
       "</div>"
      ],
      "text/plain": [
       "                         Name Dining_Hall   Time Station_Name  is_vegetarian  \\\n",
       "14  Chicken & Veggie Stir Fry      Warren  Lunch  Gluten Free              0   \n",
       "\n",
       "    is_vegan  is_sargent_choice  is_glutenfree  is_halal  is_sustainable  \\\n",
       "14         0                  0              1         1               1   \n",
       "\n",
       "    Calories  saturated_fat  protein  carbohydrates  \n",
       "14        85              1        6              2  "
      ]
     },
     "execution_count": 84,
     "metadata": {},
     "output_type": "execute_result"
    }
   ],
   "source": [
    "df.loc[df.Name=='Chicken & Veggie Stir Fry']"
   ]
  },
  {
   "cell_type": "code",
   "execution_count": 45,
   "metadata": {},
   "outputs": [
    {
     "data": {
      "text/html": [
       "<div>\n",
       "<style scoped>\n",
       "    .dataframe tbody tr th:only-of-type {\n",
       "        vertical-align: middle;\n",
       "    }\n",
       "\n",
       "    .dataframe tbody tr th {\n",
       "        vertical-align: top;\n",
       "    }\n",
       "\n",
       "    .dataframe thead th {\n",
       "        text-align: right;\n",
       "    }\n",
       "</style>\n",
       "<table border=\"1\" class=\"dataframe\">\n",
       "  <thead>\n",
       "    <tr style=\"text-align: right;\">\n",
       "      <th></th>\n",
       "      <th>Name</th>\n",
       "      <th>Dining_Hall</th>\n",
       "      <th>Time</th>\n",
       "      <th>Station_Name</th>\n",
       "      <th>is_vegetarian</th>\n",
       "      <th>is_vegan</th>\n",
       "      <th>is_sargent_choice</th>\n",
       "      <th>is_glutenfree</th>\n",
       "      <th>is_halal</th>\n",
       "      <th>is_sustainable</th>\n",
       "      <th>Calories</th>\n",
       "      <th>saturated_fat</th>\n",
       "      <th>protein</th>\n",
       "      <th>carbohydrates</th>\n",
       "    </tr>\n",
       "  </thead>\n",
       "  <tbody>\n",
       "    <tr>\n",
       "      <th>0</th>\n",
       "      <td>Chocolate Chip Coffee Cake</td>\n",
       "      <td>Marciano</td>\n",
       "      <td>Breakfast</td>\n",
       "      <td>Bakery</td>\n",
       "      <td>1</td>\n",
       "      <td>0</td>\n",
       "      <td>0</td>\n",
       "      <td>0</td>\n",
       "      <td>1</td>\n",
       "      <td>1</td>\n",
       "      <td>190</td>\n",
       "      <td>3</td>\n",
       "      <td>2</td>\n",
       "      <td>30</td>\n",
       "    </tr>\n",
       "    <tr>\n",
       "      <th>1</th>\n",
       "      <td>Hash Brown Potatoes</td>\n",
       "      <td>Marciano</td>\n",
       "      <td>Lunch</td>\n",
       "      <td>Grill</td>\n",
       "      <td>0</td>\n",
       "      <td>1</td>\n",
       "      <td>0</td>\n",
       "      <td>0</td>\n",
       "      <td>0</td>\n",
       "      <td>1</td>\n",
       "      <td>150</td>\n",
       "      <td>1</td>\n",
       "      <td>2</td>\n",
       "      <td>20</td>\n",
       "    </tr>\n",
       "    <tr>\n",
       "      <th>2</th>\n",
       "      <td>Chicken Noodle Soup</td>\n",
       "      <td>Marciano</td>\n",
       "      <td>Lunch</td>\n",
       "      <td>Home Zone</td>\n",
       "      <td>0</td>\n",
       "      <td>0</td>\n",
       "      <td>0</td>\n",
       "      <td>0</td>\n",
       "      <td>0</td>\n",
       "      <td>1</td>\n",
       "      <td>90</td>\n",
       "      <td>0</td>\n",
       "      <td>6</td>\n",
       "      <td>11</td>\n",
       "    </tr>\n",
       "    <tr>\n",
       "      <th>3</th>\n",
       "      <td>Brown Rice</td>\n",
       "      <td>Marciano</td>\n",
       "      <td>Lunch</td>\n",
       "      <td>Gluten Free</td>\n",
       "      <td>0</td>\n",
       "      <td>1</td>\n",
       "      <td>0</td>\n",
       "      <td>1</td>\n",
       "      <td>1</td>\n",
       "      <td>1</td>\n",
       "      <td>110</td>\n",
       "      <td>0</td>\n",
       "      <td>2</td>\n",
       "      <td>23</td>\n",
       "    </tr>\n",
       "    <tr>\n",
       "      <th>4</th>\n",
       "      <td>Create Your Own Sandwich Station</td>\n",
       "      <td>Marciano</td>\n",
       "      <td>Lunch</td>\n",
       "      <td>Deli</td>\n",
       "      <td>0</td>\n",
       "      <td>0</td>\n",
       "      <td>0</td>\n",
       "      <td>0</td>\n",
       "      <td>0</td>\n",
       "      <td>0</td>\n",
       "      <td>0</td>\n",
       "      <td>0</td>\n",
       "      <td>0</td>\n",
       "      <td>0</td>\n",
       "    </tr>\n",
       "  </tbody>\n",
       "</table>\n",
       "</div>"
      ],
      "text/plain": [
       "                               Name Dining_Hall       Time Station_Name  \\\n",
       "0        Chocolate Chip Coffee Cake    Marciano  Breakfast       Bakery   \n",
       "1               Hash Brown Potatoes    Marciano      Lunch        Grill   \n",
       "2               Chicken Noodle Soup    Marciano      Lunch    Home Zone   \n",
       "3                        Brown Rice    Marciano      Lunch  Gluten Free   \n",
       "4  Create Your Own Sandwich Station    Marciano      Lunch         Deli   \n",
       "\n",
       "   is_vegetarian  is_vegan  is_sargent_choice  is_glutenfree  is_halal  \\\n",
       "0              1         0                  0              0         1   \n",
       "1              0         1                  0              0         0   \n",
       "2              0         0                  0              0         0   \n",
       "3              0         1                  0              1         1   \n",
       "4              0         0                  0              0         0   \n",
       "\n",
       "   is_sustainable  Calories  saturated_fat  protein  carbohydrates  \n",
       "0               1       190              3        2             30  \n",
       "1               1       150              1        2             20  \n",
       "2               1        90              0        6             11  \n",
       "3               1       110              0        2             23  \n",
       "4               0         0              0        0              0  "
      ]
     },
     "execution_count": 45,
     "metadata": {},
     "output_type": "execute_result"
    }
   ],
   "source": [
    "df.head()"
   ]
  },
  {
   "cell_type": "code",
   "execution_count": null,
   "metadata": {},
   "outputs": [],
   "source": []
  }
 ],
 "metadata": {
  "kernelspec": {
   "display_name": "Python 3",
   "language": "python",
   "name": "python3"
  },
  "language_info": {
   "codemirror_mode": {
    "name": "ipython",
    "version": 3
   },
   "file_extension": ".py",
   "mimetype": "text/x-python",
   "name": "python",
   "nbconvert_exporter": "python",
   "pygments_lexer": "ipython3",
   "version": "3.8.3"
  }
 },
 "nbformat": 4,
 "nbformat_minor": 4
}
